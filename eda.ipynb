{
 "cells": [
  {
   "cell_type": "code",
   "execution_count": 122,
   "metadata": {
    "collapsed": true
   },
   "outputs": [],
   "source": [
    "import pandas as pd\n",
    "\n",
    "df = pd.read_csv('EV_files/EV_train.csv')\n",
    "labels = pd.read_csv('EV_files/EV_train_labels.csv')"
   ]
  },
  {
   "cell_type": "code",
   "execution_count": 123,
   "metadata": {},
   "outputs": [
    {
     "data": {
      "text/html": [
       "<div>\n",
       "<style>\n",
       "    .dataframe thead tr:only-child th {\n",
       "        text-align: right;\n",
       "    }\n",
       "\n",
       "    .dataframe thead th {\n",
       "        text-align: left;\n",
       "    }\n",
       "\n",
       "    .dataframe tbody tr th {\n",
       "        vertical-align: top;\n",
       "    }\n",
       "</style>\n",
       "<table border=\"1\" class=\"dataframe\">\n",
       "  <thead>\n",
       "    <tr style=\"text-align: right;\">\n",
       "      <th></th>\n",
       "      <th>House ID</th>\n",
       "      <th>Interval_1</th>\n",
       "      <th>Interval_2</th>\n",
       "      <th>Interval_3</th>\n",
       "      <th>Interval_4</th>\n",
       "      <th>Interval_5</th>\n",
       "      <th>Interval_6</th>\n",
       "      <th>Interval_7</th>\n",
       "      <th>Interval_8</th>\n",
       "      <th>Interval_9</th>\n",
       "      <th>...</th>\n",
       "      <th>Interval_2871</th>\n",
       "      <th>Interval_2872</th>\n",
       "      <th>Interval_2873</th>\n",
       "      <th>Interval_2874</th>\n",
       "      <th>Interval_2875</th>\n",
       "      <th>Interval_2876</th>\n",
       "      <th>Interval_2877</th>\n",
       "      <th>Interval_2878</th>\n",
       "      <th>Interval_2879</th>\n",
       "      <th>Interval_2880</th>\n",
       "    </tr>\n",
       "  </thead>\n",
       "  <tbody>\n",
       "    <tr>\n",
       "      <th>0</th>\n",
       "      <td>11655099</td>\n",
       "      <td>0.950</td>\n",
       "      <td>0.826</td>\n",
       "      <td>0.361</td>\n",
       "      <td>0.238</td>\n",
       "      <td>0.342</td>\n",
       "      <td>0.233</td>\n",
       "      <td>0.351</td>\n",
       "      <td>0.194</td>\n",
       "      <td>0.292</td>\n",
       "      <td>...</td>\n",
       "      <td>0.664</td>\n",
       "      <td>0.783</td>\n",
       "      <td>0.601</td>\n",
       "      <td>0.639</td>\n",
       "      <td>0.417</td>\n",
       "      <td>0.439</td>\n",
       "      <td>0.226</td>\n",
       "      <td>0.190</td>\n",
       "      <td>0.710</td>\n",
       "      <td>0.728</td>\n",
       "    </tr>\n",
       "    <tr>\n",
       "      <th>1</th>\n",
       "      <td>11633257</td>\n",
       "      <td>0.353</td>\n",
       "      <td>0.327</td>\n",
       "      <td>0.358</td>\n",
       "      <td>0.292</td>\n",
       "      <td>0.285</td>\n",
       "      <td>0.304</td>\n",
       "      <td>0.361</td>\n",
       "      <td>0.342</td>\n",
       "      <td>0.355</td>\n",
       "      <td>...</td>\n",
       "      <td>0.536</td>\n",
       "      <td>0.558</td>\n",
       "      <td>0.622</td>\n",
       "      <td>0.634</td>\n",
       "      <td>0.513</td>\n",
       "      <td>0.421</td>\n",
       "      <td>0.273</td>\n",
       "      <td>0.296</td>\n",
       "      <td>0.291</td>\n",
       "      <td>0.289</td>\n",
       "    </tr>\n",
       "    <tr>\n",
       "      <th>2</th>\n",
       "      <td>11651552</td>\n",
       "      <td>0.150</td>\n",
       "      <td>0.181</td>\n",
       "      <td>0.150</td>\n",
       "      <td>0.150</td>\n",
       "      <td>0.131</td>\n",
       "      <td>0.125</td>\n",
       "      <td>0.088</td>\n",
       "      <td>0.106</td>\n",
       "      <td>0.094</td>\n",
       "      <td>...</td>\n",
       "      <td>2.125</td>\n",
       "      <td>0.881</td>\n",
       "      <td>0.481</td>\n",
       "      <td>1.194</td>\n",
       "      <td>0.138</td>\n",
       "      <td>0.119</td>\n",
       "      <td>0.038</td>\n",
       "      <td>0.088</td>\n",
       "      <td>0.056</td>\n",
       "      <td>0.113</td>\n",
       "    </tr>\n",
       "  </tbody>\n",
       "</table>\n",
       "<p>3 rows × 2881 columns</p>\n",
       "</div>"
      ],
      "text/plain": [
       "   House ID  Interval_1  Interval_2  Interval_3  Interval_4  Interval_5  \\\n",
       "0  11655099       0.950       0.826       0.361       0.238       0.342   \n",
       "1  11633257       0.353       0.327       0.358       0.292       0.285   \n",
       "2  11651552       0.150       0.181       0.150       0.150       0.131   \n",
       "\n",
       "   Interval_6  Interval_7  Interval_8  Interval_9      ...        \\\n",
       "0       0.233       0.351       0.194       0.292      ...         \n",
       "1       0.304       0.361       0.342       0.355      ...         \n",
       "2       0.125       0.088       0.106       0.094      ...         \n",
       "\n",
       "   Interval_2871  Interval_2872  Interval_2873  Interval_2874  Interval_2875  \\\n",
       "0          0.664          0.783          0.601          0.639          0.417   \n",
       "1          0.536          0.558          0.622          0.634          0.513   \n",
       "2          2.125          0.881          0.481          1.194          0.138   \n",
       "\n",
       "   Interval_2876  Interval_2877  Interval_2878  Interval_2879  Interval_2880  \n",
       "0          0.439          0.226          0.190          0.710          0.728  \n",
       "1          0.421          0.273          0.296          0.291          0.289  \n",
       "2          0.119          0.038          0.088          0.056          0.113  \n",
       "\n",
       "[3 rows x 2881 columns]"
      ]
     },
     "execution_count": 123,
     "metadata": {},
     "output_type": "execute_result"
    }
   ],
   "source": [
    "df.head(3)"
   ]
  },
  {
   "cell_type": "code",
   "execution_count": 124,
   "metadata": {},
   "outputs": [
    {
     "data": {
      "text/html": [
       "<div>\n",
       "<style>\n",
       "    .dataframe thead tr:only-child th {\n",
       "        text-align: right;\n",
       "    }\n",
       "\n",
       "    .dataframe thead th {\n",
       "        text-align: left;\n",
       "    }\n",
       "\n",
       "    .dataframe tbody tr th {\n",
       "        vertical-align: top;\n",
       "    }\n",
       "</style>\n",
       "<table border=\"1\" class=\"dataframe\">\n",
       "  <thead>\n",
       "    <tr style=\"text-align: right;\">\n",
       "      <th></th>\n",
       "      <th>House ID</th>\n",
       "      <th>Interval_1</th>\n",
       "      <th>Interval_2</th>\n",
       "      <th>Interval_3</th>\n",
       "      <th>Interval_4</th>\n",
       "      <th>Interval_5</th>\n",
       "      <th>Interval_6</th>\n",
       "      <th>Interval_7</th>\n",
       "      <th>Interval_8</th>\n",
       "      <th>Interval_9</th>\n",
       "      <th>...</th>\n",
       "      <th>Interval_2871</th>\n",
       "      <th>Interval_2872</th>\n",
       "      <th>Interval_2873</th>\n",
       "      <th>Interval_2874</th>\n",
       "      <th>Interval_2875</th>\n",
       "      <th>Interval_2876</th>\n",
       "      <th>Interval_2877</th>\n",
       "      <th>Interval_2878</th>\n",
       "      <th>Interval_2879</th>\n",
       "      <th>Interval_2880</th>\n",
       "    </tr>\n",
       "  </thead>\n",
       "  <tbody>\n",
       "    <tr>\n",
       "      <th>0</th>\n",
       "      <td>11655099</td>\n",
       "      <td>0</td>\n",
       "      <td>0</td>\n",
       "      <td>0</td>\n",
       "      <td>0</td>\n",
       "      <td>0</td>\n",
       "      <td>0</td>\n",
       "      <td>0</td>\n",
       "      <td>0</td>\n",
       "      <td>0</td>\n",
       "      <td>...</td>\n",
       "      <td>0</td>\n",
       "      <td>0</td>\n",
       "      <td>0</td>\n",
       "      <td>0</td>\n",
       "      <td>0</td>\n",
       "      <td>0</td>\n",
       "      <td>0</td>\n",
       "      <td>0</td>\n",
       "      <td>0</td>\n",
       "      <td>0</td>\n",
       "    </tr>\n",
       "    <tr>\n",
       "      <th>1</th>\n",
       "      <td>11633257</td>\n",
       "      <td>0</td>\n",
       "      <td>0</td>\n",
       "      <td>0</td>\n",
       "      <td>0</td>\n",
       "      <td>0</td>\n",
       "      <td>0</td>\n",
       "      <td>0</td>\n",
       "      <td>0</td>\n",
       "      <td>0</td>\n",
       "      <td>...</td>\n",
       "      <td>0</td>\n",
       "      <td>0</td>\n",
       "      <td>0</td>\n",
       "      <td>0</td>\n",
       "      <td>0</td>\n",
       "      <td>0</td>\n",
       "      <td>0</td>\n",
       "      <td>0</td>\n",
       "      <td>0</td>\n",
       "      <td>0</td>\n",
       "    </tr>\n",
       "    <tr>\n",
       "      <th>2</th>\n",
       "      <td>11651552</td>\n",
       "      <td>0</td>\n",
       "      <td>0</td>\n",
       "      <td>0</td>\n",
       "      <td>0</td>\n",
       "      <td>0</td>\n",
       "      <td>0</td>\n",
       "      <td>0</td>\n",
       "      <td>0</td>\n",
       "      <td>0</td>\n",
       "      <td>...</td>\n",
       "      <td>0</td>\n",
       "      <td>0</td>\n",
       "      <td>0</td>\n",
       "      <td>0</td>\n",
       "      <td>0</td>\n",
       "      <td>0</td>\n",
       "      <td>0</td>\n",
       "      <td>0</td>\n",
       "      <td>0</td>\n",
       "      <td>0</td>\n",
       "    </tr>\n",
       "  </tbody>\n",
       "</table>\n",
       "<p>3 rows × 2881 columns</p>\n",
       "</div>"
      ],
      "text/plain": [
       "   House ID  Interval_1  Interval_2  Interval_3  Interval_4  Interval_5  \\\n",
       "0  11655099           0           0           0           0           0   \n",
       "1  11633257           0           0           0           0           0   \n",
       "2  11651552           0           0           0           0           0   \n",
       "\n",
       "   Interval_6  Interval_7  Interval_8  Interval_9      ...        \\\n",
       "0           0           0           0           0      ...         \n",
       "1           0           0           0           0      ...         \n",
       "2           0           0           0           0      ...         \n",
       "\n",
       "   Interval_2871  Interval_2872  Interval_2873  Interval_2874  Interval_2875  \\\n",
       "0              0              0              0              0              0   \n",
       "1              0              0              0              0              0   \n",
       "2              0              0              0              0              0   \n",
       "\n",
       "   Interval_2876  Interval_2877  Interval_2878  Interval_2879  Interval_2880  \n",
       "0              0              0              0              0              0  \n",
       "1              0              0              0              0              0  \n",
       "2              0              0              0              0              0  \n",
       "\n",
       "[3 rows x 2881 columns]"
      ]
     },
     "execution_count": 124,
     "metadata": {},
     "output_type": "execute_result"
    }
   ],
   "source": [
    "labels.head(3)"
   ]
  },
  {
   "cell_type": "markdown",
   "metadata": {},
   "source": [
    "Let's set House ID as our index."
   ]
  },
  {
   "cell_type": "code",
   "execution_count": 125,
   "metadata": {
    "collapsed": true
   },
   "outputs": [],
   "source": [
    "df.set_index('House ID', inplace=True)\n",
    "labels.set_index('House ID', inplace=True)"
   ]
  },
  {
   "cell_type": "code",
   "execution_count": 126,
   "metadata": {},
   "outputs": [
    {
     "data": {
      "text/plain": [
       "((1590, 2880), (1590, 2880))"
      ]
     },
     "execution_count": 126,
     "metadata": {},
     "output_type": "execute_result"
    }
   ],
   "source": [
    "df.shape, labels.shape"
   ]
  },
  {
   "cell_type": "markdown",
   "metadata": {},
   "source": [
    "Smart meter power readings (in kW) from 1590 houses taken at half-hour intervals. 2880 measurements at half-hour intervals spans 60 days. Let's see if any houses have missing data."
   ]
  },
  {
   "cell_type": "code",
   "execution_count": 127,
   "metadata": {},
   "outputs": [
    {
     "data": {
      "text/html": [
       "<div>\n",
       "<style>\n",
       "    .dataframe thead tr:only-child th {\n",
       "        text-align: right;\n",
       "    }\n",
       "\n",
       "    .dataframe thead th {\n",
       "        text-align: left;\n",
       "    }\n",
       "\n",
       "    .dataframe tbody tr th {\n",
       "        vertical-align: top;\n",
       "    }\n",
       "</style>\n",
       "<table border=\"1\" class=\"dataframe\">\n",
       "  <thead>\n",
       "    <tr style=\"text-align: right;\">\n",
       "      <th></th>\n",
       "      <th>Interval_1</th>\n",
       "      <th>Interval_2</th>\n",
       "      <th>Interval_3</th>\n",
       "      <th>Interval_4</th>\n",
       "      <th>Interval_5</th>\n",
       "      <th>Interval_6</th>\n",
       "      <th>Interval_7</th>\n",
       "      <th>Interval_8</th>\n",
       "      <th>Interval_9</th>\n",
       "      <th>Interval_10</th>\n",
       "      <th>...</th>\n",
       "      <th>Interval_2871</th>\n",
       "      <th>Interval_2872</th>\n",
       "      <th>Interval_2873</th>\n",
       "      <th>Interval_2874</th>\n",
       "      <th>Interval_2875</th>\n",
       "      <th>Interval_2876</th>\n",
       "      <th>Interval_2877</th>\n",
       "      <th>Interval_2878</th>\n",
       "      <th>Interval_2879</th>\n",
       "      <th>Interval_2880</th>\n",
       "    </tr>\n",
       "    <tr>\n",
       "      <th>House ID</th>\n",
       "      <th></th>\n",
       "      <th></th>\n",
       "      <th></th>\n",
       "      <th></th>\n",
       "      <th></th>\n",
       "      <th></th>\n",
       "      <th></th>\n",
       "      <th></th>\n",
       "      <th></th>\n",
       "      <th></th>\n",
       "      <th></th>\n",
       "      <th></th>\n",
       "      <th></th>\n",
       "      <th></th>\n",
       "      <th></th>\n",
       "      <th></th>\n",
       "      <th></th>\n",
       "      <th></th>\n",
       "      <th></th>\n",
       "      <th></th>\n",
       "      <th></th>\n",
       "    </tr>\n",
       "  </thead>\n",
       "  <tbody>\n",
       "    <tr>\n",
       "      <th>11637447</th>\n",
       "      <td>2.395</td>\n",
       "      <td>2.380</td>\n",
       "      <td>2.336</td>\n",
       "      <td>2.417</td>\n",
       "      <td>2.422</td>\n",
       "      <td>2.497</td>\n",
       "      <td>2.486</td>\n",
       "      <td>3.015</td>\n",
       "      <td>2.317</td>\n",
       "      <td>2.336</td>\n",
       "      <td>...</td>\n",
       "      <td>NaN</td>\n",
       "      <td>NaN</td>\n",
       "      <td>NaN</td>\n",
       "      <td>NaN</td>\n",
       "      <td>NaN</td>\n",
       "      <td>NaN</td>\n",
       "      <td>NaN</td>\n",
       "      <td>NaN</td>\n",
       "      <td>NaN</td>\n",
       "      <td>NaN</td>\n",
       "    </tr>\n",
       "    <tr>\n",
       "      <th>11635802</th>\n",
       "      <td>0.249</td>\n",
       "      <td>0.271</td>\n",
       "      <td>0.266</td>\n",
       "      <td>0.255</td>\n",
       "      <td>0.247</td>\n",
       "      <td>0.280</td>\n",
       "      <td>0.178</td>\n",
       "      <td>0.237</td>\n",
       "      <td>0.133</td>\n",
       "      <td>0.186</td>\n",
       "      <td>...</td>\n",
       "      <td>NaN</td>\n",
       "      <td>NaN</td>\n",
       "      <td>NaN</td>\n",
       "      <td>NaN</td>\n",
       "      <td>NaN</td>\n",
       "      <td>NaN</td>\n",
       "      <td>NaN</td>\n",
       "      <td>NaN</td>\n",
       "      <td>NaN</td>\n",
       "      <td>NaN</td>\n",
       "    </tr>\n",
       "    <tr>\n",
       "      <th>11637232</th>\n",
       "      <td>1.218</td>\n",
       "      <td>1.087</td>\n",
       "      <td>0.995</td>\n",
       "      <td>0.791</td>\n",
       "      <td>0.798</td>\n",
       "      <td>0.756</td>\n",
       "      <td>0.745</td>\n",
       "      <td>0.736</td>\n",
       "      <td>0.699</td>\n",
       "      <td>0.691</td>\n",
       "      <td>...</td>\n",
       "      <td>NaN</td>\n",
       "      <td>NaN</td>\n",
       "      <td>NaN</td>\n",
       "      <td>NaN</td>\n",
       "      <td>NaN</td>\n",
       "      <td>NaN</td>\n",
       "      <td>NaN</td>\n",
       "      <td>NaN</td>\n",
       "      <td>NaN</td>\n",
       "      <td>NaN</td>\n",
       "    </tr>\n",
       "    <tr>\n",
       "      <th>11632700</th>\n",
       "      <td>0.113</td>\n",
       "      <td>0.106</td>\n",
       "      <td>0.113</td>\n",
       "      <td>0.150</td>\n",
       "      <td>0.119</td>\n",
       "      <td>0.106</td>\n",
       "      <td>0.100</td>\n",
       "      <td>0.144</td>\n",
       "      <td>0.144</td>\n",
       "      <td>0.106</td>\n",
       "      <td>...</td>\n",
       "      <td>NaN</td>\n",
       "      <td>NaN</td>\n",
       "      <td>NaN</td>\n",
       "      <td>NaN</td>\n",
       "      <td>NaN</td>\n",
       "      <td>NaN</td>\n",
       "      <td>NaN</td>\n",
       "      <td>NaN</td>\n",
       "      <td>NaN</td>\n",
       "      <td>NaN</td>\n",
       "    </tr>\n",
       "  </tbody>\n",
       "</table>\n",
       "<p>4 rows × 2880 columns</p>\n",
       "</div>"
      ],
      "text/plain": [
       "          Interval_1  Interval_2  Interval_3  Interval_4  Interval_5  \\\n",
       "House ID                                                               \n",
       "11637447       2.395       2.380       2.336       2.417       2.422   \n",
       "11635802       0.249       0.271       0.266       0.255       0.247   \n",
       "11637232       1.218       1.087       0.995       0.791       0.798   \n",
       "11632700       0.113       0.106       0.113       0.150       0.119   \n",
       "\n",
       "          Interval_6  Interval_7  Interval_8  Interval_9  Interval_10  \\\n",
       "House ID                                                                \n",
       "11637447       2.497       2.486       3.015       2.317        2.336   \n",
       "11635802       0.280       0.178       0.237       0.133        0.186   \n",
       "11637232       0.756       0.745       0.736       0.699        0.691   \n",
       "11632700       0.106       0.100       0.144       0.144        0.106   \n",
       "\n",
       "              ...        Interval_2871  Interval_2872  Interval_2873  \\\n",
       "House ID      ...                                                      \n",
       "11637447      ...                  NaN            NaN            NaN   \n",
       "11635802      ...                  NaN            NaN            NaN   \n",
       "11637232      ...                  NaN            NaN            NaN   \n",
       "11632700      ...                  NaN            NaN            NaN   \n",
       "\n",
       "          Interval_2874  Interval_2875  Interval_2876  Interval_2877  \\\n",
       "House ID                                                               \n",
       "11637447            NaN            NaN            NaN            NaN   \n",
       "11635802            NaN            NaN            NaN            NaN   \n",
       "11637232            NaN            NaN            NaN            NaN   \n",
       "11632700            NaN            NaN            NaN            NaN   \n",
       "\n",
       "          Interval_2878  Interval_2879  Interval_2880  \n",
       "House ID                                               \n",
       "11637447            NaN            NaN            NaN  \n",
       "11635802            NaN            NaN            NaN  \n",
       "11637232            NaN            NaN            NaN  \n",
       "11632700            NaN            NaN            NaN  \n",
       "\n",
       "[4 rows x 2880 columns]"
      ]
     },
     "execution_count": 127,
     "metadata": {},
     "output_type": "execute_result"
    }
   ],
   "source": [
    "houses_w_nans = df[pd.isnull(df).any(axis=1)]\n",
    "houses_w_nans"
   ]
  },
  {
   "cell_type": "markdown",
   "metadata": {},
   "source": [
    "Only 4 of 1590 houses. There look to be several 30-minute intervals in a row with missing data. I am not fond of imputing missing values of electricity data for extended periods of time, so let's drop these houses for now. In a production model, I'd probably impute NaN values with the mean of that house's half hour interval (i.e. calculate the mean kW usage at 1:00pm for a house and impute that value at a NaN happening at 1pm)."
   ]
  },
  {
   "cell_type": "code",
   "execution_count": 128,
   "metadata": {},
   "outputs": [
    {
     "data": {
      "text/plain": [
       "[11637447, 11635802, 11637232, 11632700]"
      ]
     },
     "execution_count": 128,
     "metadata": {},
     "output_type": "execute_result"
    }
   ],
   "source": [
    "houses_missing_data = houses_w_nans.index.tolist()\n",
    "houses_missing_data"
   ]
  },
  {
   "cell_type": "markdown",
   "metadata": {},
   "source": [
    "Let's drop these houses from our training set."
   ]
  },
  {
   "cell_type": "code",
   "execution_count": 129,
   "metadata": {
    "collapsed": true
   },
   "outputs": [],
   "source": [
    "df = df[~df.index.isin(houses_missing_data)]\n",
    "labels = labels[~labels.index.isin(houses_missing_data)]"
   ]
  },
  {
   "cell_type": "code",
   "execution_count": 130,
   "metadata": {},
   "outputs": [
    {
     "data": {
      "text/plain": [
       "((1586, 2880), (1586, 2880))"
      ]
     },
     "execution_count": 130,
     "metadata": {},
     "output_type": "execute_result"
    }
   ],
   "source": [
    "df.shape, labels.shape"
   ]
  },
  {
   "cell_type": "markdown",
   "metadata": {},
   "source": [
    "We now only have a training set for houses with compelete meter data. Let's address the first problem:\n",
    "1. Which residences have electric vehicles?\n",
    "\n",
    "Before applying any models, I like to perform some basic feature engineering and run a few statistcs to get a sense of how the two classes differ. These engineered features may or may not be used in our model. Let's create a dataframe of engineered features called *X*."
   ]
  },
  {
   "cell_type": "code",
   "execution_count": 131,
   "metadata": {
    "collapsed": true
   },
   "outputs": [],
   "source": [
    "X = df.mean(axis=1).rename('Pwr_Avg').to_frame()\n",
    "X['Pwr_Med'] = df.median(axis=1)\n",
    "X['Pwr_Rng'] = df.max(axis=1) - df.min(axis=1)\n",
    "X['Pwr_Std'] = df.std(axis=1)\n",
    "X['Pwr_IQR'] = df.quantile(q=0.75, axis=1) - df.quantile(q=0.25, axis=1)\n",
    "X['Avg_Norm_Rng'] = X['Pwr_Rng'] / X['Pwr_Avg']\n",
    "X['IQR_Norm'] = X['Pwr_IQR'] / X['Pwr_Avg']"
   ]
  },
  {
   "cell_type": "code",
   "execution_count": 132,
   "metadata": {},
   "outputs": [
    {
     "data": {
      "text/html": [
       "<div>\n",
       "<style>\n",
       "    .dataframe thead tr:only-child th {\n",
       "        text-align: right;\n",
       "    }\n",
       "\n",
       "    .dataframe thead th {\n",
       "        text-align: left;\n",
       "    }\n",
       "\n",
       "    .dataframe tbody tr th {\n",
       "        vertical-align: top;\n",
       "    }\n",
       "</style>\n",
       "<table border=\"1\" class=\"dataframe\">\n",
       "  <thead>\n",
       "    <tr style=\"text-align: right;\">\n",
       "      <th></th>\n",
       "      <th>Pwr_Avg</th>\n",
       "      <th>Pwr_Med</th>\n",
       "      <th>Pwr_Rng</th>\n",
       "      <th>Pwr_Std</th>\n",
       "      <th>Pwr_IQR</th>\n",
       "      <th>Avg_Norm_Rng</th>\n",
       "      <th>IQR_Norm</th>\n",
       "    </tr>\n",
       "    <tr>\n",
       "      <th>House ID</th>\n",
       "      <th></th>\n",
       "      <th></th>\n",
       "      <th></th>\n",
       "      <th></th>\n",
       "      <th></th>\n",
       "      <th></th>\n",
       "      <th></th>\n",
       "    </tr>\n",
       "  </thead>\n",
       "  <tbody>\n",
       "    <tr>\n",
       "      <th>11655099</th>\n",
       "      <td>0.569631</td>\n",
       "      <td>0.445</td>\n",
       "      <td>2.010</td>\n",
       "      <td>0.366291</td>\n",
       "      <td>0.44600</td>\n",
       "      <td>3.528601</td>\n",
       "      <td>0.782963</td>\n",
       "    </tr>\n",
       "    <tr>\n",
       "      <th>11633257</th>\n",
       "      <td>0.667629</td>\n",
       "      <td>0.465</td>\n",
       "      <td>3.710</td>\n",
       "      <td>0.489821</td>\n",
       "      <td>0.60425</td>\n",
       "      <td>5.556980</td>\n",
       "      <td>0.905069</td>\n",
       "    </tr>\n",
       "    <tr>\n",
       "      <th>11651552</th>\n",
       "      <td>0.659690</td>\n",
       "      <td>0.356</td>\n",
       "      <td>4.763</td>\n",
       "      <td>0.736209</td>\n",
       "      <td>0.86200</td>\n",
       "      <td>7.220055</td>\n",
       "      <td>1.306674</td>\n",
       "    </tr>\n",
       "  </tbody>\n",
       "</table>\n",
       "</div>"
      ],
      "text/plain": [
       "           Pwr_Avg  Pwr_Med  Pwr_Rng   Pwr_Std  Pwr_IQR  Avg_Norm_Rng  \\\n",
       "House ID                                                                \n",
       "11655099  0.569631    0.445    2.010  0.366291  0.44600      3.528601   \n",
       "11633257  0.667629    0.465    3.710  0.489821  0.60425      5.556980   \n",
       "11651552  0.659690    0.356    4.763  0.736209  0.86200      7.220055   \n",
       "\n",
       "          IQR_Norm  \n",
       "House ID            \n",
       "11655099  0.782963  \n",
       "11633257  0.905069  \n",
       "11651552  1.306674  "
      ]
     },
     "execution_count": 132,
     "metadata": {},
     "output_type": "execute_result"
    }
   ],
   "source": [
    "X.head(3)"
   ]
  },
  {
   "cell_type": "code",
   "execution_count": 133,
   "metadata": {
    "collapsed": true
   },
   "outputs": [],
   "source": [
    "# create Has_EV label and join with X on House ID\n",
    "ev_label = labels.max(axis=1).rename('Has_EV')\n",
    "X = pd.concat((X, ev_label), axis=1, join='inner')"
   ]
  },
  {
   "cell_type": "code",
   "execution_count": 134,
   "metadata": {},
   "outputs": [
    {
     "data": {
      "text/html": [
       "<div>\n",
       "<style>\n",
       "    .dataframe thead tr:only-child th {\n",
       "        text-align: right;\n",
       "    }\n",
       "\n",
       "    .dataframe thead th {\n",
       "        text-align: left;\n",
       "    }\n",
       "\n",
       "    .dataframe tbody tr th {\n",
       "        vertical-align: top;\n",
       "    }\n",
       "</style>\n",
       "<table border=\"1\" class=\"dataframe\">\n",
       "  <thead>\n",
       "    <tr style=\"text-align: right;\">\n",
       "      <th></th>\n",
       "      <th>Pwr_Avg</th>\n",
       "      <th>Pwr_Med</th>\n",
       "      <th>Pwr_Rng</th>\n",
       "      <th>Pwr_Std</th>\n",
       "      <th>Pwr_IQR</th>\n",
       "      <th>Avg_Norm_Rng</th>\n",
       "      <th>IQR_Norm</th>\n",
       "      <th>Has_EV</th>\n",
       "    </tr>\n",
       "    <tr>\n",
       "      <th>House ID</th>\n",
       "      <th></th>\n",
       "      <th></th>\n",
       "      <th></th>\n",
       "      <th></th>\n",
       "      <th></th>\n",
       "      <th></th>\n",
       "      <th></th>\n",
       "      <th></th>\n",
       "    </tr>\n",
       "  </thead>\n",
       "  <tbody>\n",
       "    <tr>\n",
       "      <th>11655099</th>\n",
       "      <td>0.569631</td>\n",
       "      <td>0.445</td>\n",
       "      <td>2.010</td>\n",
       "      <td>0.366291</td>\n",
       "      <td>0.44600</td>\n",
       "      <td>3.528601</td>\n",
       "      <td>0.782963</td>\n",
       "      <td>0</td>\n",
       "    </tr>\n",
       "    <tr>\n",
       "      <th>11633257</th>\n",
       "      <td>0.667629</td>\n",
       "      <td>0.465</td>\n",
       "      <td>3.710</td>\n",
       "      <td>0.489821</td>\n",
       "      <td>0.60425</td>\n",
       "      <td>5.556980</td>\n",
       "      <td>0.905069</td>\n",
       "      <td>0</td>\n",
       "    </tr>\n",
       "    <tr>\n",
       "      <th>11651552</th>\n",
       "      <td>0.659690</td>\n",
       "      <td>0.356</td>\n",
       "      <td>4.763</td>\n",
       "      <td>0.736209</td>\n",
       "      <td>0.86200</td>\n",
       "      <td>7.220055</td>\n",
       "      <td>1.306674</td>\n",
       "      <td>0</td>\n",
       "    </tr>\n",
       "  </tbody>\n",
       "</table>\n",
       "</div>"
      ],
      "text/plain": [
       "           Pwr_Avg  Pwr_Med  Pwr_Rng   Pwr_Std  Pwr_IQR  Avg_Norm_Rng  \\\n",
       "House ID                                                                \n",
       "11655099  0.569631    0.445    2.010  0.366291  0.44600      3.528601   \n",
       "11633257  0.667629    0.465    3.710  0.489821  0.60425      5.556980   \n",
       "11651552  0.659690    0.356    4.763  0.736209  0.86200      7.220055   \n",
       "\n",
       "          IQR_Norm  Has_EV  \n",
       "House ID                    \n",
       "11655099  0.782963       0  \n",
       "11633257  0.905069       0  \n",
       "11651552  1.306674       0  "
      ]
     },
     "execution_count": 134,
     "metadata": {},
     "output_type": "execute_result"
    }
   ],
   "source": [
    "X.head(3)"
   ]
  },
  {
   "cell_type": "markdown",
   "metadata": {},
   "source": [
    "Let's divide up the data from into homes with EV's and homes without EV's and see if any of these engineered features are meaningful.\n",
    "\n",
    "Once we have a set of features we're happy with, we can throw a machine learning model at it. Logistic regression will probably be a good place to start for interpretability and getting a sense of feature importance, although I've been on a gradient boosting kick lately so that is probably where I will end up. Gradient boosting is good at dealing with unbalanced data."
   ]
  },
  {
   "cell_type": "code",
   "execution_count": 135,
   "metadata": {
    "collapsed": true
   },
   "outputs": [],
   "source": [
    "has_EV = X.loc[X['Has_EV'] == 1]\n",
    "no_EV = X.loc[X['Has_EV'] == 0]"
   ]
  },
  {
   "cell_type": "code",
   "execution_count": 136,
   "metadata": {
    "scrolled": true
   },
   "outputs": [
    {
     "data": {
      "text/html": [
       "<div>\n",
       "<style>\n",
       "    .dataframe thead tr:only-child th {\n",
       "        text-align: right;\n",
       "    }\n",
       "\n",
       "    .dataframe thead th {\n",
       "        text-align: left;\n",
       "    }\n",
       "\n",
       "    .dataframe tbody tr th {\n",
       "        vertical-align: top;\n",
       "    }\n",
       "</style>\n",
       "<table border=\"1\" class=\"dataframe\">\n",
       "  <thead>\n",
       "    <tr style=\"text-align: right;\">\n",
       "      <th></th>\n",
       "      <th>count</th>\n",
       "      <th>mean</th>\n",
       "      <th>std</th>\n",
       "      <th>min</th>\n",
       "      <th>25%</th>\n",
       "      <th>50%</th>\n",
       "      <th>75%</th>\n",
       "      <th>max</th>\n",
       "    </tr>\n",
       "  </thead>\n",
       "  <tbody>\n",
       "    <tr>\n",
       "      <th>Pwr_Avg</th>\n",
       "      <td>484.0</td>\n",
       "      <td>1.439297</td>\n",
       "      <td>4.077576</td>\n",
       "      <td>0.361415</td>\n",
       "      <td>0.757689</td>\n",
       "      <td>0.935727</td>\n",
       "      <td>1.267361</td>\n",
       "      <td>84.905235</td>\n",
       "    </tr>\n",
       "    <tr>\n",
       "      <th>Pwr_Med</th>\n",
       "      <td>484.0</td>\n",
       "      <td>1.062900</td>\n",
       "      <td>3.678616</td>\n",
       "      <td>0.003000</td>\n",
       "      <td>0.438000</td>\n",
       "      <td>0.627500</td>\n",
       "      <td>0.915250</td>\n",
       "      <td>75.832500</td>\n",
       "    </tr>\n",
       "    <tr>\n",
       "      <th>Pwr_Rng</th>\n",
       "      <td>484.0</td>\n",
       "      <td>6.932785</td>\n",
       "      <td>6.155856</td>\n",
       "      <td>2.269128</td>\n",
       "      <td>5.037619</td>\n",
       "      <td>6.327042</td>\n",
       "      <td>7.519634</td>\n",
       "      <td>112.191000</td>\n",
       "    </tr>\n",
       "    <tr>\n",
       "      <th>Pwr_Std</th>\n",
       "      <td>484.0</td>\n",
       "      <td>1.087139</td>\n",
       "      <td>1.131893</td>\n",
       "      <td>0.379857</td>\n",
       "      <td>0.764247</td>\n",
       "      <td>0.931562</td>\n",
       "      <td>1.127805</td>\n",
       "      <td>21.487303</td>\n",
       "    </tr>\n",
       "    <tr>\n",
       "      <th>Pwr_IQR</th>\n",
       "      <td>484.0</td>\n",
       "      <td>1.221299</td>\n",
       "      <td>1.502654</td>\n",
       "      <td>0.109000</td>\n",
       "      <td>0.642875</td>\n",
       "      <td>0.911440</td>\n",
       "      <td>1.302313</td>\n",
       "      <td>24.431936</td>\n",
       "    </tr>\n",
       "    <tr>\n",
       "      <th>Avg_Norm_Rng</th>\n",
       "      <td>484.0</td>\n",
       "      <td>6.353772</td>\n",
       "      <td>2.182650</td>\n",
       "      <td>1.214168</td>\n",
       "      <td>4.884267</td>\n",
       "      <td>6.203913</td>\n",
       "      <td>7.627869</td>\n",
       "      <td>15.211293</td>\n",
       "    </tr>\n",
       "    <tr>\n",
       "      <th>IQR_Norm</th>\n",
       "      <td>484.0</td>\n",
       "      <td>0.983917</td>\n",
       "      <td>0.380982</td>\n",
       "      <td>0.141754</td>\n",
       "      <td>0.727448</td>\n",
       "      <td>0.976659</td>\n",
       "      <td>1.237715</td>\n",
       "      <td>2.400726</td>\n",
       "    </tr>\n",
       "    <tr>\n",
       "      <th>Has_EV</th>\n",
       "      <td>484.0</td>\n",
       "      <td>1.000000</td>\n",
       "      <td>0.000000</td>\n",
       "      <td>1.000000</td>\n",
       "      <td>1.000000</td>\n",
       "      <td>1.000000</td>\n",
       "      <td>1.000000</td>\n",
       "      <td>1.000000</td>\n",
       "    </tr>\n",
       "  </tbody>\n",
       "</table>\n",
       "</div>"
      ],
      "text/plain": [
       "              count      mean       std       min       25%       50%  \\\n",
       "Pwr_Avg       484.0  1.439297  4.077576  0.361415  0.757689  0.935727   \n",
       "Pwr_Med       484.0  1.062900  3.678616  0.003000  0.438000  0.627500   \n",
       "Pwr_Rng       484.0  6.932785  6.155856  2.269128  5.037619  6.327042   \n",
       "Pwr_Std       484.0  1.087139  1.131893  0.379857  0.764247  0.931562   \n",
       "Pwr_IQR       484.0  1.221299  1.502654  0.109000  0.642875  0.911440   \n",
       "Avg_Norm_Rng  484.0  6.353772  2.182650  1.214168  4.884267  6.203913   \n",
       "IQR_Norm      484.0  0.983917  0.380982  0.141754  0.727448  0.976659   \n",
       "Has_EV        484.0  1.000000  0.000000  1.000000  1.000000  1.000000   \n",
       "\n",
       "                   75%         max  \n",
       "Pwr_Avg       1.267361   84.905235  \n",
       "Pwr_Med       0.915250   75.832500  \n",
       "Pwr_Rng       7.519634  112.191000  \n",
       "Pwr_Std       1.127805   21.487303  \n",
       "Pwr_IQR       1.302313   24.431936  \n",
       "Avg_Norm_Rng  7.627869   15.211293  \n",
       "IQR_Norm      1.237715    2.400726  \n",
       "Has_EV        1.000000    1.000000  "
      ]
     },
     "execution_count": 136,
     "metadata": {},
     "output_type": "execute_result"
    }
   ],
   "source": [
    "has_EV.describe().T"
   ]
  },
  {
   "cell_type": "code",
   "execution_count": 137,
   "metadata": {},
   "outputs": [
    {
     "data": {
      "text/html": [
       "<div>\n",
       "<style>\n",
       "    .dataframe thead tr:only-child th {\n",
       "        text-align: right;\n",
       "    }\n",
       "\n",
       "    .dataframe thead th {\n",
       "        text-align: left;\n",
       "    }\n",
       "\n",
       "    .dataframe tbody tr th {\n",
       "        vertical-align: top;\n",
       "    }\n",
       "</style>\n",
       "<table border=\"1\" class=\"dataframe\">\n",
       "  <thead>\n",
       "    <tr style=\"text-align: right;\">\n",
       "      <th></th>\n",
       "      <th>count</th>\n",
       "      <th>mean</th>\n",
       "      <th>std</th>\n",
       "      <th>min</th>\n",
       "      <th>25%</th>\n",
       "      <th>50%</th>\n",
       "      <th>75%</th>\n",
       "      <th>max</th>\n",
       "    </tr>\n",
       "  </thead>\n",
       "  <tbody>\n",
       "    <tr>\n",
       "      <th>Pwr_Avg</th>\n",
       "      <td>1102.0</td>\n",
       "      <td>1.383729</td>\n",
       "      <td>2.559698</td>\n",
       "      <td>0.282908</td>\n",
       "      <td>0.611995</td>\n",
       "      <td>0.794658</td>\n",
       "      <td>1.177699</td>\n",
       "      <td>45.663464</td>\n",
       "    </tr>\n",
       "    <tr>\n",
       "      <th>Pwr_Med</th>\n",
       "      <td>1102.0</td>\n",
       "      <td>1.048280</td>\n",
       "      <td>2.373142</td>\n",
       "      <td>0.000000</td>\n",
       "      <td>0.400000</td>\n",
       "      <td>0.563500</td>\n",
       "      <td>0.904500</td>\n",
       "      <td>45.840000</td>\n",
       "    </tr>\n",
       "    <tr>\n",
       "      <th>Pwr_Rng</th>\n",
       "      <td>1102.0</td>\n",
       "      <td>4.811237</td>\n",
       "      <td>5.730188</td>\n",
       "      <td>0.071000</td>\n",
       "      <td>2.708000</td>\n",
       "      <td>3.596000</td>\n",
       "      <td>4.753750</td>\n",
       "      <td>69.824000</td>\n",
       "    </tr>\n",
       "    <tr>\n",
       "      <th>Pwr_Std</th>\n",
       "      <td>1102.0</td>\n",
       "      <td>0.933739</td>\n",
       "      <td>1.367692</td>\n",
       "      <td>0.011757</td>\n",
       "      <td>0.461507</td>\n",
       "      <td>0.639611</td>\n",
       "      <td>0.878859</td>\n",
       "      <td>19.064741</td>\n",
       "    </tr>\n",
       "    <tr>\n",
       "      <th>Pwr_IQR</th>\n",
       "      <td>1102.0</td>\n",
       "      <td>1.301223</td>\n",
       "      <td>2.111647</td>\n",
       "      <td>0.016000</td>\n",
       "      <td>0.576625</td>\n",
       "      <td>0.791625</td>\n",
       "      <td>1.228875</td>\n",
       "      <td>30.943500</td>\n",
       "    </tr>\n",
       "    <tr>\n",
       "      <th>Avg_Norm_Rng</th>\n",
       "      <td>1102.0</td>\n",
       "      <td>4.341502</td>\n",
       "      <td>1.639058</td>\n",
       "      <td>0.138400</td>\n",
       "      <td>3.285204</td>\n",
       "      <td>4.259859</td>\n",
       "      <td>5.340507</td>\n",
       "      <td>12.343324</td>\n",
       "    </tr>\n",
       "    <tr>\n",
       "      <th>IQR_Norm</th>\n",
       "      <td>1102.0</td>\n",
       "      <td>1.054969</td>\n",
       "      <td>0.457580</td>\n",
       "      <td>0.030782</td>\n",
       "      <td>0.760978</td>\n",
       "      <td>1.020498</td>\n",
       "      <td>1.302243</td>\n",
       "      <td>2.597722</td>\n",
       "    </tr>\n",
       "    <tr>\n",
       "      <th>Has_EV</th>\n",
       "      <td>1102.0</td>\n",
       "      <td>0.000000</td>\n",
       "      <td>0.000000</td>\n",
       "      <td>0.000000</td>\n",
       "      <td>0.000000</td>\n",
       "      <td>0.000000</td>\n",
       "      <td>0.000000</td>\n",
       "      <td>0.000000</td>\n",
       "    </tr>\n",
       "  </tbody>\n",
       "</table>\n",
       "</div>"
      ],
      "text/plain": [
       "               count      mean       std       min       25%       50%  \\\n",
       "Pwr_Avg       1102.0  1.383729  2.559698  0.282908  0.611995  0.794658   \n",
       "Pwr_Med       1102.0  1.048280  2.373142  0.000000  0.400000  0.563500   \n",
       "Pwr_Rng       1102.0  4.811237  5.730188  0.071000  2.708000  3.596000   \n",
       "Pwr_Std       1102.0  0.933739  1.367692  0.011757  0.461507  0.639611   \n",
       "Pwr_IQR       1102.0  1.301223  2.111647  0.016000  0.576625  0.791625   \n",
       "Avg_Norm_Rng  1102.0  4.341502  1.639058  0.138400  3.285204  4.259859   \n",
       "IQR_Norm      1102.0  1.054969  0.457580  0.030782  0.760978  1.020498   \n",
       "Has_EV        1102.0  0.000000  0.000000  0.000000  0.000000  0.000000   \n",
       "\n",
       "                   75%        max  \n",
       "Pwr_Avg       1.177699  45.663464  \n",
       "Pwr_Med       0.904500  45.840000  \n",
       "Pwr_Rng       4.753750  69.824000  \n",
       "Pwr_Std       0.878859  19.064741  \n",
       "Pwr_IQR       1.228875  30.943500  \n",
       "Avg_Norm_Rng  5.340507  12.343324  \n",
       "IQR_Norm      1.302243   2.597722  \n",
       "Has_EV        0.000000   0.000000  "
      ]
     },
     "execution_count": 137,
     "metadata": {},
     "output_type": "execute_result"
    }
   ],
   "source": [
    "no_EV.describe().T"
   ]
  },
  {
   "cell_type": "markdown",
   "metadata": {},
   "source": [
    "Looks to be some significant differences. Let's train up a quick Random Forest, and see which features are important. Then run a quick grid search to establish a baseline comparitive model. I will be assessing models on F1 score which I found most appropriate for imbalanced classes."
   ]
  },
  {
   "cell_type": "code",
   "execution_count": 138,
   "metadata": {
    "collapsed": true
   },
   "outputs": [],
   "source": [
    "from sklearn.ensemble import RandomForestClassifier\n",
    "from sklearn.model_selection import cross_val_score\n",
    "import numpy as np\n",
    "np.random.seed(15)  # for reproducibility\n",
    "\n",
    "best_rf = RandomForestClassifier(n_estimators=15, criterion='entropy',\n",
    "                                     max_features='log2', max_depth=12,\n",
    "                                     min_samples_leaf=2, min_samples_split=4,\n",
    "                                     bootstrap=True, n_jobs=-1)"
   ]
  },
  {
   "cell_type": "code",
   "execution_count": 139,
   "metadata": {
    "collapsed": true
   },
   "outputs": [],
   "source": [
    "y = X.pop('Has_EV')\n",
    "scores = cross_val_score(best_rf, X, y, cv=3, scoring='f1')"
   ]
  },
  {
   "cell_type": "code",
   "execution_count": 140,
   "metadata": {},
   "outputs": [
    {
     "name": "stdout",
     "output_type": "stream",
     "text": [
      "Cross-val F1 score: 0.680152357781\n"
     ]
    }
   ],
   "source": [
    "print('Cross-val F1 score:', scores.mean())"
   ]
  },
  {
   "cell_type": "markdown",
   "metadata": {},
   "source": [
    "Once tuned using cross validation, let's fit the Random Forest to the whole training set and assess feature importance."
   ]
  },
  {
   "cell_type": "code",
   "execution_count": 141,
   "metadata": {},
   "outputs": [
    {
     "name": "stdout",
     "output_type": "stream",
     "text": [
      "(('Pwr_Avg', 0.10862570459155192), ('Pwr_Med', 0.085293075221135953), ('Pwr_Rng', 0.30599021453188407), ('Pwr_Std', 0.12128005852602919), ('Pwr_IQR', 0.093322107934657061), ('Avg_Norm_Rng', 0.20867948203471304), ('IQR_Norm', 0.076809357160028818))\n"
     ]
    }
   ],
   "source": [
    "best_rf.fit(X, y)\n",
    "feat_dict = tuple(zip(X.columns, best_rf.feature_importances_))\n",
    "print(feat_dict)"
   ]
  },
  {
   "cell_type": "markdown",
   "metadata": {},
   "source": [
    "Let's iterate on what features we fit on using the feature importances."
   ]
  },
  {
   "cell_type": "code",
   "execution_count": 142,
   "metadata": {},
   "outputs": [
    {
     "name": "stdout",
     "output_type": "stream",
     "text": [
      "Cross-val F1 score: 0.686144881322\n",
      "(('Pwr_Rng', 0.36854039838814373), ('Pwr_Std', 0.31208778329276093), ('Avg_Norm_Rng', 0.31937181831909545))\n"
     ]
    }
   ],
   "source": [
    "np.random.seed(15) \n",
    "\n",
    "X_1 = X[['Pwr_Rng', 'Pwr_Std', 'Avg_Norm_Rng']]\n",
    "scores = cross_val_score(best_rf, X_1, y, cv=3, scoring='f1')\n",
    "print('Cross-val F1 score:', scores.mean())\n",
    "best_rf.fit(X_1, y)\n",
    "feat_dict = tuple(zip(X_1.columns, best_rf.feature_importances_))\n",
    "print(feat_dict)"
   ]
  },
  {
   "cell_type": "markdown",
   "metadata": {},
   "source": [
    "Let's see how gradient boosted trees perform. Gradient boosting is a principled method of dealing with class imbalance by constructing successive training sets based on incorrectly classified examples."
   ]
  },
  {
   "cell_type": "code",
   "execution_count": 143,
   "metadata": {},
   "outputs": [
    {
     "name": "stdout",
     "output_type": "stream",
     "text": [
      "Cross-val F1 score: 0.716127132389\n"
     ]
    }
   ],
   "source": [
    "from xgboost import XGBClassifier\n",
    "np.random.seed(15)\n",
    "\n",
    "X_2 = X[['Pwr_Rng', 'Pwr_Std', 'Avg_Norm_Rng']]\n",
    "boosted_tree = XGBClassifier(objective='binary:logistic')\n",
    "scores = cross_val_score(boosted_tree, X_2, y, cv=3, scoring='f1')\n",
    "print('Cross-val F1 score:', scores.mean())"
   ]
  },
  {
   "cell_type": "markdown",
   "metadata": {},
   "source": [
    "An out-of-the-box gradient boosted trees beats a tuned Random Forest. Boosted trees, from my experience take some careful tuning for best results, so this is a promising sign. Let's do some quick tunign by hand to see what it's capable of, and then come back for some feature engineering. For the final production model, we'll run a grid search, but I like to get some intuition first."
   ]
  },
  {
   "cell_type": "code",
   "execution_count": 144,
   "metadata": {},
   "outputs": [
    {
     "name": "stdout",
     "output_type": "stream",
     "text": [
      "Cross-val F1 score: 0.72364350529\n"
     ]
    }
   ],
   "source": [
    "from xgboost import XGBClassifier\n",
    "np.random.seed(15)\n",
    "\n",
    "X_2 = X[['Pwr_Rng', 'Pwr_Std', 'Avg_Norm_Rng']]\n",
    "boosted_tree = XGBClassifier(max_depth=1, learning_rate=0.15, n_estimators=105, \n",
    "                             objective='binary:logistic', min_child_weight=1,\n",
    "                             gamma=0, colsample_bytree=1, scale_pos_weight=1)\n",
    "scores = cross_val_score(boosted_tree, X_2, y, cv=3, scoring='f1')\n",
    "print('Cross-val F1 score:', scores.mean())"
   ]
  },
  {
   "cell_type": "code",
   "execution_count": 145,
   "metadata": {},
   "outputs": [
    {
     "name": "stdout",
     "output_type": "stream",
     "text": [
      "Cross-val Precision: 0.779308202154\n",
      "Cross-val Recall: 0.67557447026\n"
     ]
    }
   ],
   "source": [
    "prec = cross_val_score(boosted_tree, X_2, y, cv=3, scoring='precision')\n",
    "rec = cross_val_score(boosted_tree, X_2, y, cv=3, scoring='recall')\n",
    "print('Cross-val Precision:', prec.mean())\n",
    "print('Cross-val Recall:', rec.mean())"
   ]
  },
  {
   "cell_type": "markdown",
   "metadata": {},
   "source": [
    "A bit of improvement, but not stagerring. Let's revisit our feature engineering, where I anticipated the bulk of imporovement will come from."
   ]
  },
  {
   "cell_type": "code",
   "execution_count": null,
   "metadata": {
    "collapsed": true
   },
   "outputs": [],
   "source": []
  },
  {
   "cell_type": "markdown",
   "metadata": {},
   "source": [
    "I'm thinking it might be good to quantify how much additional power EVs draw, and then using the power draw to engineer some feature that detects spikes on that order of magnitude. An easier way to do this may be with time-series analysis. Going to dive into sequence classifications with LSTMs because LSTM's are something that I want to better understand so I can implement it in my [Galvanize Capstone Project](https://github.com/kykiefer/depression-detect)."
   ]
  },
  {
   "cell_type": "code",
   "execution_count": 146,
   "metadata": {},
   "outputs": [
    {
     "data": {
      "text/html": [
       "<div>\n",
       "<style>\n",
       "    .dataframe thead tr:only-child th {\n",
       "        text-align: right;\n",
       "    }\n",
       "\n",
       "    .dataframe thead th {\n",
       "        text-align: left;\n",
       "    }\n",
       "\n",
       "    .dataframe tbody tr th {\n",
       "        vertical-align: top;\n",
       "    }\n",
       "</style>\n",
       "<table border=\"1\" class=\"dataframe\">\n",
       "  <thead>\n",
       "    <tr style=\"text-align: right;\">\n",
       "      <th></th>\n",
       "      <th>Interval_1</th>\n",
       "      <th>Interval_2</th>\n",
       "      <th>Interval_3</th>\n",
       "      <th>Interval_4</th>\n",
       "      <th>Interval_5</th>\n",
       "      <th>Interval_6</th>\n",
       "      <th>Interval_7</th>\n",
       "      <th>Interval_8</th>\n",
       "      <th>Interval_9</th>\n",
       "      <th>Interval_10</th>\n",
       "      <th>...</th>\n",
       "      <th>Interval_2871</th>\n",
       "      <th>Interval_2872</th>\n",
       "      <th>Interval_2873</th>\n",
       "      <th>Interval_2874</th>\n",
       "      <th>Interval_2875</th>\n",
       "      <th>Interval_2876</th>\n",
       "      <th>Interval_2877</th>\n",
       "      <th>Interval_2878</th>\n",
       "      <th>Interval_2879</th>\n",
       "      <th>Interval_2880</th>\n",
       "    </tr>\n",
       "    <tr>\n",
       "      <th>House ID</th>\n",
       "      <th></th>\n",
       "      <th></th>\n",
       "      <th></th>\n",
       "      <th></th>\n",
       "      <th></th>\n",
       "      <th></th>\n",
       "      <th></th>\n",
       "      <th></th>\n",
       "      <th></th>\n",
       "      <th></th>\n",
       "      <th></th>\n",
       "      <th></th>\n",
       "      <th></th>\n",
       "      <th></th>\n",
       "      <th></th>\n",
       "      <th></th>\n",
       "      <th></th>\n",
       "      <th></th>\n",
       "      <th></th>\n",
       "      <th></th>\n",
       "      <th></th>\n",
       "    </tr>\n",
       "  </thead>\n",
       "  <tbody>\n",
       "    <tr>\n",
       "      <th>11655099</th>\n",
       "      <td>0</td>\n",
       "      <td>0</td>\n",
       "      <td>0</td>\n",
       "      <td>0</td>\n",
       "      <td>0</td>\n",
       "      <td>0</td>\n",
       "      <td>0</td>\n",
       "      <td>0</td>\n",
       "      <td>0</td>\n",
       "      <td>0</td>\n",
       "      <td>...</td>\n",
       "      <td>0</td>\n",
       "      <td>0</td>\n",
       "      <td>0</td>\n",
       "      <td>0</td>\n",
       "      <td>0</td>\n",
       "      <td>0</td>\n",
       "      <td>0</td>\n",
       "      <td>0</td>\n",
       "      <td>0</td>\n",
       "      <td>0</td>\n",
       "    </tr>\n",
       "    <tr>\n",
       "      <th>11633257</th>\n",
       "      <td>0</td>\n",
       "      <td>0</td>\n",
       "      <td>0</td>\n",
       "      <td>0</td>\n",
       "      <td>0</td>\n",
       "      <td>0</td>\n",
       "      <td>0</td>\n",
       "      <td>0</td>\n",
       "      <td>0</td>\n",
       "      <td>0</td>\n",
       "      <td>...</td>\n",
       "      <td>0</td>\n",
       "      <td>0</td>\n",
       "      <td>0</td>\n",
       "      <td>0</td>\n",
       "      <td>0</td>\n",
       "      <td>0</td>\n",
       "      <td>0</td>\n",
       "      <td>0</td>\n",
       "      <td>0</td>\n",
       "      <td>0</td>\n",
       "    </tr>\n",
       "    <tr>\n",
       "      <th>11651552</th>\n",
       "      <td>0</td>\n",
       "      <td>0</td>\n",
       "      <td>0</td>\n",
       "      <td>0</td>\n",
       "      <td>0</td>\n",
       "      <td>0</td>\n",
       "      <td>0</td>\n",
       "      <td>0</td>\n",
       "      <td>0</td>\n",
       "      <td>0</td>\n",
       "      <td>...</td>\n",
       "      <td>0</td>\n",
       "      <td>0</td>\n",
       "      <td>0</td>\n",
       "      <td>0</td>\n",
       "      <td>0</td>\n",
       "      <td>0</td>\n",
       "      <td>0</td>\n",
       "      <td>0</td>\n",
       "      <td>0</td>\n",
       "      <td>0</td>\n",
       "    </tr>\n",
       "  </tbody>\n",
       "</table>\n",
       "<p>3 rows × 2880 columns</p>\n",
       "</div>"
      ],
      "text/plain": [
       "          Interval_1  Interval_2  Interval_3  Interval_4  Interval_5  \\\n",
       "House ID                                                               \n",
       "11655099           0           0           0           0           0   \n",
       "11633257           0           0           0           0           0   \n",
       "11651552           0           0           0           0           0   \n",
       "\n",
       "          Interval_6  Interval_7  Interval_8  Interval_9  Interval_10  \\\n",
       "House ID                                                                \n",
       "11655099           0           0           0           0            0   \n",
       "11633257           0           0           0           0            0   \n",
       "11651552           0           0           0           0            0   \n",
       "\n",
       "              ...        Interval_2871  Interval_2872  Interval_2873  \\\n",
       "House ID      ...                                                      \n",
       "11655099      ...                    0              0              0   \n",
       "11633257      ...                    0              0              0   \n",
       "11651552      ...                    0              0              0   \n",
       "\n",
       "          Interval_2874  Interval_2875  Interval_2876  Interval_2877  \\\n",
       "House ID                                                               \n",
       "11655099              0              0              0              0   \n",
       "11633257              0              0              0              0   \n",
       "11651552              0              0              0              0   \n",
       "\n",
       "          Interval_2878  Interval_2879  Interval_2880  \n",
       "House ID                                               \n",
       "11655099              0              0              0  \n",
       "11633257              0              0              0  \n",
       "11651552              0              0              0  \n",
       "\n",
       "[3 rows x 2880 columns]"
      ]
     },
     "execution_count": 146,
     "metadata": {},
     "output_type": "execute_result"
    }
   ],
   "source": [
    "labels.head(3)"
   ]
  },
  {
   "cell_type": "markdown",
   "metadata": {},
   "source": [
    "Let's aggregate the 2880 30-min intervals spanning 60 days into daily average to see which hours of the day people are charging their EVs."
   ]
  },
  {
   "cell_type": "code",
   "execution_count": 147,
   "metadata": {},
   "outputs": [
    {
     "data": {
      "text/plain": [
       "2880"
      ]
     },
     "execution_count": 147,
     "metadata": {},
     "output_type": "execute_result"
    }
   ],
   "source": [
    "perc_homes_charing_by_interval = labels.mean().tolist()\n",
    "len(perc_homes_charing_by_interval)"
   ]
  },
  {
   "cell_type": "code",
   "execution_count": 148,
   "metadata": {},
   "outputs": [
    {
     "data": {
      "text/plain": [
       "0.15825977301387137"
      ]
     },
     "execution_count": 148,
     "metadata": {},
     "output_type": "execute_result"
    }
   ],
   "source": [
    "max(perc_homes_charing_by_interval)"
   ]
  },
  {
   "cell_type": "markdown",
   "metadata": {},
   "source": [
    "At any given 30-min interval, a maximum of 15.8% of homes (in contrast to the 30.5% that own EVs) are charging EVs. Let's aggregate the data into an average daily representation by hour."
   ]
  },
  {
   "cell_type": "code",
   "execution_count": null,
   "metadata": {},
   "outputs": [],
   "source": []
  },
  {
   "cell_type": "code",
   "execution_count": 149,
   "metadata": {},
   "outputs": [],
   "source": [
    "intervals = range(0,48)  # 48 half hour intervals in a day\n",
    "half_hour_avg_charging = []\n",
    "for i in intervals:\n",
    "    inter = perc_homes_charing_by_interval[i::48]\n",
    "    half_hour_avg_charging.append(sum(inter)/len(inter))"
   ]
  },
  {
   "cell_type": "code",
   "execution_count": 150,
   "metadata": {},
   "outputs": [
    {
     "data": {
      "text/plain": [
       "<matplotlib.text.Text at 0x12cde8240>"
      ]
     },
     "execution_count": 150,
     "metadata": {},
     "output_type": "execute_result"
    },
    {
     "data": {
      "image/png": "[encoded data removed]",
      "text/plain": [
       "<matplotlib.figure.Figure at 0x12cdbd940>"
      ]
     },
     "metadata": {},
     "output_type": "display_data"
    }
   ],
   "source": [
    "import matplotlib.pyplot as plt\n",
    "%matplotlib inline\n",
    "\n",
    "plt.plot(intervals, half_hour_avg_charging)\n",
    "plt.title('Average % of EVs charging by 30-min interval')\n",
    "plt.ylabel('% of households charging EVs')\n",
    "plt.xlabel('30-min interval #')"
   ]
  },
  {
   "cell_type": "markdown",
   "metadata": {},
   "source": [
    "Safe to say people like to chage their cars at a certain time of the day. Let's throw up a plot over all the intervals to see if there are any other trends to exploe."
   ]
  },
  {
   "cell_type": "code",
   "execution_count": 151,
   "metadata": {},
   "outputs": [
    {
     "data": {
      "text/plain": [
       "[<matplotlib.lines.Line2D at 0x1198df2e8>]"
      ]
     },
     "execution_count": 151,
     "metadata": {},
     "output_type": "execute_result"
    },
    {
     "data": {
      "image/png": "[encoded data removed]",
      "text/plain": [
       "<matplotlib.figure.Figure at 0x12cde5a58>"
      ]
     },
     "metadata": {},
     "output_type": "display_data"
    }
   ],
   "source": [
    "plt.plot(range(0,2880), perc_homes_charing_by_interval)"
   ]
  },
  {
   "cell_type": "markdown",
   "metadata": {},
   "source": [
    "Some big spikes, maybe day of the week?"
   ]
  },
  {
   "cell_type": "code",
   "execution_count": 152,
   "metadata": {},
   "outputs": [],
   "source": [
    "def chunk_it(seq, num):\n",
    "  avg = len(seq) / float(num)\n",
    "  out = []\n",
    "  last = 0.0\n",
    "\n",
    "  while last < len(seq):\n",
    "    day = seq[int(last):int(last + avg)]\n",
    "    day_avg = sum(day)/len(day)\n",
    "    out.append(day_avg)\n",
    "    last += avg\n",
    "\n",
    "  return out"
   ]
  },
  {
   "cell_type": "code",
   "execution_count": 153,
   "metadata": {},
   "outputs": [],
   "source": [
    "daily_avg = chunk_it(perc_homes_charing_by_interval, 60)"
   ]
  },
  {
   "cell_type": "code",
   "execution_count": null,
   "metadata": {},
   "outputs": [],
   "source": []
  },
  {
   "cell_type": "code",
   "execution_count": 154,
   "metadata": {},
   "outputs": [],
   "source": [
    "intervals = range(0,7)  # 48 half hour intervals in a day\n",
    "dow_avg = []\n",
    "for i in intervals:\n",
    "    inter = daily_avg[i::7]\n",
    "    dow_avg.append(sum(inter)/len(inter))"
   ]
  },
  {
   "cell_type": "code",
   "execution_count": 155,
   "metadata": {},
   "outputs": [
    {
     "data": {
      "text/plain": [
       "<matplotlib.text.Text at 0x12cfc5cf8>"
      ]
     },
     "execution_count": 155,
     "metadata": {},
     "output_type": "execute_result"
    },
    {
     "data": {
      "image/png": "[encoded data removed]",
      "text/plain": [
       "<matplotlib.figure.Figure at 0x1199070b8>"
      ]
     },
     "metadata": {},
     "output_type": "display_data"
    }
   ],
   "source": [
    "plt.bar(intervals, dow_avg)\n",
    "plt.title('Average % of EVs at any given time on DOW')\n",
    "plt.ylabel('% of households charging EVs')\n",
    "plt.xlabel('DOW')"
   ]
  },
  {
   "cell_type": "code",
   "execution_count": null,
   "metadata": {
    "collapsed": true
   },
   "outputs": [],
   "source": []
  }
 ],
 "metadata": {
  "kernelspec": {
   "display_name": "Python 3",
   "language": "python",
   "name": "python3"
  },
  "language_info": {
   "codemirror_mode": {
    "name": "ipython",
    "version": 3
   },
   "file_extension": ".py",
   "mimetype": "text/x-python",
   "name": "python",
   "nbconvert_exporter": "python",
   "pygments_lexer": "ipython3",
   "version": "3.6.1"
  }
 },
 "nbformat": 4,
 "nbformat_minor": 2
}
